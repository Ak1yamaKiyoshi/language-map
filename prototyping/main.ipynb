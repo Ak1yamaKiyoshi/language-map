{
 "cells": [
  {
   "cell_type": "code",
   "execution_count": 1,
   "metadata": {},
   "outputs": [],
   "source": [
    "from lib_maputils import MapUtils\n",
    "from lib_mapvis import MapVis\n",
    "import json\n",
    "import numpy as np\n",
    "import matplotlib.pyplot as plt\n",
    "import cv2 as cv\n"
   ]
  },
  {
   "cell_type": "code",
   "execution_count": 2,
   "metadata": {},
   "outputs": [],
   "source": [
    "def read_json_map(filename):\n",
    "    with open(filename, 'r') as f:\n",
    "        data = json.load(f)\n",
    "    return data\n",
    "\n",
    "def read_map(data, out):\n",
    "  for feature in data['features']:\n",
    "    coords = feature['geometry']['coordinates']\n",
    "    out.append(coords)"
   ]
  },
  {
   "cell_type": "code",
   "execution_count": 3,
   "metadata": {},
   "outputs": [],
   "source": [
    "%timeit\n",
    "filename = 'world_map_latlon.json'\n",
    "\n",
    "map_data = read_json_map(filename)\n",
    "out = [] \n",
    "read_map(map_data, out)\n",
    "mercator_all = []\n",
    "for polygon in out:\n",
    "  mercator_all += polygon"
   ]
  },
  {
   "cell_type": "code",
   "execution_count": 4,
   "metadata": {},
   "outputs": [],
   "source": [
    "def lerp(v, from_min, from_max, to_min, to_max):\n",
    "    return (v - from_min) / (from_max - from_min) * (to_max - to_min) + to_min"
   ]
  },
  {
   "cell_type": "code",
   "execution_count": 13,
   "metadata": {},
   "outputs": [
    {
     "name": "stderr",
     "output_type": "stream",
     "text": [
      "100%|██████████| 25359/25359 [00:01<00:00, 21472.51it/s]\n"
     ]
    },
    {
     "data": {
      "text/plain": [
       "True"
      ]
     },
     "execution_count": 13,
     "metadata": {},
     "output_type": "execute_result"
    }
   ],
   "source": [
    "from tqdm import tqdm \n",
    "min_mercator = np.array((-20037508.34, -20037508.34))\n",
    "max_mercator = np.array((20037508.34, 20037508.34))\n",
    "\n",
    "height , width = 1500, 1500\n",
    "img = np.ones((width, height, 3), dtype=np.uint8)*255\n",
    "\n",
    "for feature in tqdm(map_data['features']):\n",
    "  coords = feature['geometry']['coordinates']\n",
    "  coords = np.array(coords)\n",
    "  feature_type = feature['properties']['type']\n",
    "\n",
    "  mercator = []\n",
    "  for latlon in coords:\n",
    "    mercator.append(MapUtils.latlon_to_mercator(*latlon[::-1]))\n",
    "  mercator = np.array(mercator)\n",
    "\n",
    "  mercator2pixel = lerp(mercator, min_mercator, max_mercator, 0, height).reshape((-1, 1, 2)).astype(np.int32)\n",
    "  if feature_type == 'state':\n",
    "    img = cv.polylines(img,[mercator2pixel],False,(50,50,50), 1)\n",
    "  elif feature_type == 'country':\n",
    "    img = cv.polylines(img,[mercator2pixel],False,(0,150,150), 1)\n",
    "  elif feature_type == 'river':\n",
    "    img = cv.polylines(img,[mercator2pixel],False,(120,30,30), 1)\n",
    "  elif feature_type == 'coastline':\n",
    "    img = cv.polylines(img,[mercator2pixel],False,(0,0,0), 1)\n",
    "\n",
    "cv.imwrite(\"world_map_topology.png\",img)"
   ]
  },
  {
   "cell_type": "code",
   "execution_count": 17,
   "metadata": {},
   "outputs": [],
   "source": []
  },
  {
   "cell_type": "markdown",
   "metadata": {},
   "source": []
  },
  {
   "cell_type": "code",
   "execution_count": null,
   "metadata": {},
   "outputs": [],
   "source": []
  },
  {
   "cell_type": "code",
   "execution_count": null,
   "metadata": {},
   "outputs": [],
   "source": []
  }
 ],
 "metadata": {
  "kernelspec": {
   "display_name": "f845",
   "language": "python",
   "name": "python3"
  },
  "language_info": {
   "codemirror_mode": {
    "name": "ipython",
    "version": 3
   },
   "file_extension": ".py",
   "mimetype": "text/x-python",
   "name": "python",
   "nbconvert_exporter": "python",
   "pygments_lexer": "ipython3",
   "version": "3.12.4"
  }
 },
 "nbformat": 4,
 "nbformat_minor": 2
}
